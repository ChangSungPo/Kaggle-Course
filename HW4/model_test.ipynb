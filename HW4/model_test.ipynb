{
 "metadata": {
  "language_info": {
   "codemirror_mode": {
    "name": "ipython",
    "version": 3
   },
   "file_extension": ".py",
   "mimetype": "text/x-python",
   "name": "python",
   "nbconvert_exporter": "python",
   "pygments_lexer": "ipython3",
   "version": "3.9.2"
  },
  "orig_nbformat": 2,
  "kernelspec": {
   "name": "python392jvsc74a57bd0aee8b7b246df8f9039afb4144a1f6fd8d2ca17a180786b69acc140d282b71a49",
   "display_name": "Python 3.9.2 64-bit"
  }
 },
 "nbformat": 4,
 "nbformat_minor": 2,
 "cells": [
  {
   "cell_type": "code",
   "execution_count": 1,
   "metadata": {},
   "outputs": [],
   "source": [
    "import pandas as pd\n",
    "import numpy as np\n",
    "from sklearn.ensemble import RandomForestRegressor\n",
    "from sklearn.linear_model import ElasticNetCV"
   ]
  },
  {
   "cell_type": "code",
   "execution_count": 8,
   "metadata": {},
   "outputs": [],
   "source": [
    "# Some function\n",
    "def mse(y, y_pred):\n",
    "    return np.sum(np.square((y - y_pred))) / y.shape[0]\n",
    "\n",
    "def rmsle(y, y_pred):\n",
    "    return np.sqrt(mse(y, y_pred))\n",
    "\n",
    "def report(\n",
    "    model, x_train, x_test, y_train, y_test, normalize = False, y_mean = None, y_std = None\n",
    "):\n",
    "    # ------- Evaluation -------\n",
    "    # Training\n",
    "    pred = model.predict(x_train)\n",
    "\n",
    "    if normalize:\n",
    "        pred = pred * y_std + y_mean\n",
    "    \n",
    "    train_mae = np.sum(np.abs(y_train - pred)) / y_train.shape[0]\n",
    "    train_rmsle = rmsle(y_train, pred)\n",
    "\n",
    "    # Testing \n",
    "    pred = model.predict(x_test)\n",
    "\n",
    "    if normalize:\n",
    "        pred = pred * y_std + y_mean\n",
    "\n",
    "    test_mae = np.sum(np.abs(y_test - pred)) / y_test.shape[0]\n",
    "    test_rmsle = rmsle(y_test, pred)\n",
    "\n",
    "    print('Training:')\n",
    "    print(f'RMSLE: {train_rmsle:.4f}, MAE: {train_mae:.4f}\\n')\n",
    "    print('Testing:')\n",
    "    print(f'RMSLE: {test_rmsle:.4f}, MAE: {test_mae:.4f}\\n')"
   ]
  },
  {
   "cell_type": "code",
   "execution_count": 9,
   "metadata": {},
   "outputs": [
    {
     "output_type": "stream",
     "name": "stdout",
     "text": [
      "(1095, 89) (1095,) (365, 89) (365,)\n"
     ]
    }
   ],
   "source": [
    "x_train = np.load('./x_train.npy')\n",
    "y_train = np.load('./y_train.npy')\n",
    "x_test = np.load('./x_test.npy')\n",
    "y_test = np.load('./y_test.npy')\n",
    "\n",
    "print(x_train.shape, y_train.shape, x_test.shape, y_test.shape)"
   ]
  },
  {
   "cell_type": "code",
   "execution_count": 10,
   "metadata": {},
   "outputs": [],
   "source": [
    "x_mean = np.mean(x_train, axis = 0)\n",
    "x_std = np.std(x_train, axis = 0)\n",
    "x_train_norm = (x_train - x_mean) / x_std\n",
    "x_test_norm = (x_test - x_mean) / x_std\n",
    "\n",
    "y_mean = np.mean(y_train)\n",
    "y_std = np.std(y_train)\n",
    "y_train_norm = (y_train - y_mean) / y_std\n",
    "y_test_norm = (y_test - y_mean) / y_std"
   ]
  },
  {
   "source": [
    "# Machine learning modeling\n",
    "- [RandomForestRegressor](https://scikit-learn.org/stable/modules/generated/sklearn.ensemble.RandomForestRegressor.html)\n",
    "- [ElasticNetCV](https://scikit-learn.org/stable/modules/generated/sklearn.linear_model.ElasticNetCV.html#sklearn.linear_model.ElasticNetCV)"
   ],
   "cell_type": "markdown",
   "metadata": {}
  },
  {
   "source": [
    "## 機器學習建模"
   ],
   "cell_type": "markdown",
   "metadata": {}
  },
  {
   "cell_type": "code",
   "execution_count": 11,
   "metadata": {},
   "outputs": [
    {
     "output_type": "execute_result",
     "data": {
      "text/plain": [
       "RandomForestRegressor(ccp_alpha=0.5, max_depth=8, max_features='sqrt',\n",
       "                      max_samples=0.85, min_impurity_decrease=0.2,\n",
       "                      min_samples_leaf=4, min_samples_split=3, n_estimators=150,\n",
       "                      n_jobs=4)"
      ]
     },
     "metadata": {},
     "execution_count": 11
    }
   ],
   "source": [
    "# Training \n",
    "RF = RandomForestRegressor(\n",
    "    n_estimators = 150, criterion='mse', max_depth=8, \n",
    "    min_samples_split = 3, min_samples_leaf = 4, \n",
    "    max_features='sqrt', max_leaf_nodes = None, min_impurity_decrease = 0.2,\n",
    "    n_jobs = 4, ccp_alpha = 0.5, max_samples = 0.85\n",
    ")\n",
    "\n",
    "RF.fit(x_train, y_train)"
   ]
  },
  {
   "cell_type": "code",
   "execution_count": 12,
   "metadata": {},
   "outputs": [
    {
     "output_type": "execute_result",
     "data": {
      "text/plain": [
       "ElasticNetCV()"
      ]
     },
     "metadata": {},
     "execution_count": 12
    }
   ],
   "source": [
    "# Training\n",
    "EN = ElasticNetCV(\n",
    "    l1_ratio=0.5, eps=0.001, n_alphas=100, alphas=None, fit_intercept=True, normalize=False,       \n",
    "    precompute='auto', max_iter=1000, tol=0.0001, cv=None, copy_X=True, verbose=0, n_jobs=None, \n",
    "    positive=False, random_state=None, selection='cyclic'\n",
    ")\n",
    "EN.fit(x_train_norm, y_train_norm)"
   ]
  },
  {
   "cell_type": "code",
   "execution_count": 13,
   "metadata": {},
   "outputs": [
    {
     "output_type": "stream",
     "name": "stdout",
     "text": [
      "Training:\nRMSLE: 24229.7369, MAE: 13764.6468\n\nTesting:\nRMSLE: 38659.3610, MAE: 19937.8285\n\n"
     ]
    }
   ],
   "source": [
    "report(RF, x_train, x_test, y_train, y_test)"
   ]
  },
  {
   "cell_type": "code",
   "execution_count": 15,
   "metadata": {},
   "outputs": [
    {
     "output_type": "stream",
     "name": "stdout",
     "text": [
      "Training:\nRMSLE: 30599.5280, MAE: 19656.1886\n\nTesting:\nRMSLE: 41180.7869, MAE: 23418.3598\n\n"
     ]
    }
   ],
   "source": [
    "report(EN, x_train_norm, x_test_norm, y_train, y_test, normalize = True, y_mean = y_mean, y_std = y_std)"
   ]
  },
  {
   "cell_type": "code",
   "execution_count": null,
   "metadata": {},
   "outputs": [],
   "source": []
  }
 ]
}